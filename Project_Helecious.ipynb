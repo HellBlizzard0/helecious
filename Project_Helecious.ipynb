{
  "nbformat": 4,
  "nbformat_minor": 0,
  "metadata": {
    "colab": {
      "name": "Project_Helecious.ipynb",
      "provenance": [],
      "collapsed_sections": [],
      "toc_visible": true
    },
    "kernelspec": {
      "name": "python3",
      "display_name": "Python 3",
      "language": "python"
    },
    "language_info": {
      "name": "python",
      "version": "3.8.8"
    }
  },
  "cells": [
    {
      "cell_type": "markdown",
      "metadata": {
        "id": "GfnRv7Q4J0Js"
      },
      "source": [
        "# Project: Helecious\n",
        "Developed by:\n",
        "* Habeeb Idrees\n",
        "* Ahmad Alsaqqa"
      ]
    },
    {
      "cell_type": "markdown",
      "metadata": {
        "id": "Aa7lvVevKM5H"
      },
      "source": [
        "# Dataset import"
      ]
    },
    {
      "cell_type": "code",
      "metadata": {
        "id": "Cp-_ql2WPIHc"
      },
      "source": [
        "import pandas as pd\n",
        "from pandas import DataFrame\n",
        "import matplotlib.pyplot as plt"
      ],
      "execution_count": 1,
      "outputs": [
        {
          "output_type": "error",
          "ename": "ModuleNotFoundError",
          "evalue": "No module named 'pandas'",
          "traceback": [
            "\u001b[0;31m---------------------------------------------------------------------------\u001b[0m",
            "\u001b[0;31mModuleNotFoundError\u001b[0m                       Traceback (most recent call last)",
            "\u001b[0;32m<ipython-input-1-fa962a5f7f09>\u001b[0m in \u001b[0;36m<module>\u001b[0;34m\u001b[0m\n\u001b[0;32m----> 1\u001b[0;31m \u001b[0;32mimport\u001b[0m \u001b[0mpandas\u001b[0m \u001b[0;32mas\u001b[0m \u001b[0mpd\u001b[0m\u001b[0;34m\u001b[0m\u001b[0;34m\u001b[0m\u001b[0m\n\u001b[0m\u001b[1;32m      2\u001b[0m \u001b[0;32mfrom\u001b[0m \u001b[0mpandas\u001b[0m \u001b[0;32mimport\u001b[0m \u001b[0mDataFrame\u001b[0m\u001b[0;34m\u001b[0m\u001b[0;34m\u001b[0m\u001b[0m\n\u001b[1;32m      3\u001b[0m \u001b[0;32mimport\u001b[0m \u001b[0mmatplotlib\u001b[0m\u001b[0;34m.\u001b[0m\u001b[0mpyplot\u001b[0m \u001b[0;32mas\u001b[0m \u001b[0mplt\u001b[0m\u001b[0;34m\u001b[0m\u001b[0;34m\u001b[0m\u001b[0m\n",
            "\u001b[0;31mModuleNotFoundError\u001b[0m: No module named 'pandas'"
          ]
        }
      ]
    },
    {
      "cell_type": "code",
      "metadata": {
        "id": "yzUrnoYDYqad"
      },
      "source": [
        "path = 'dataset.csv'\n",
        "dataset = pd.read_csv(path)"
      ],
      "execution_count": null,
      "outputs": []
    },
    {
      "cell_type": "code",
      "metadata": {
        "colab": {
          "base_uri": "https://localhost:8080/",
          "height": 206
        },
        "id": "YkRvWqN7Qx0I",
        "outputId": "17304a52-e5aa-41b2-f6a6-93ee6efeb1f1"
      },
      "source": [
        "dataset.head()"
      ],
      "execution_count": null,
      "outputs": [
        {
          "output_type": "execute_result",
          "data": {
            "text/html": [
              "<div>\n",
              "<style scoped>\n",
              "    .dataframe tbody tr th:only-of-type {\n",
              "        vertical-align: middle;\n",
              "    }\n",
              "\n",
              "    .dataframe tbody tr th {\n",
              "        vertical-align: top;\n",
              "    }\n",
              "\n",
              "    .dataframe thead th {\n",
              "        text-align: right;\n",
              "    }\n",
              "</style>\n",
              "<table border=\"1\" class=\"dataframe\">\n",
              "  <thead>\n",
              "    <tr style=\"text-align: right;\">\n",
              "      <th></th>\n",
              "      <th>date</th>\n",
              "      <th>week_day</th>\n",
              "      <th>store_id</th>\n",
              "      <th>item_name</th>\n",
              "      <th>item_id</th>\n",
              "      <th>sales</th>\n",
              "      <th>returned</th>\n",
              "    </tr>\n",
              "  </thead>\n",
              "  <tbody>\n",
              "    <tr>\n",
              "      <th>0</th>\n",
              "      <td>2020-06-28</td>\n",
              "      <td>Sunday</td>\n",
              "      <td>ام عبدالعزيز العامري</td>\n",
              "      <td>جرانولا</td>\n",
              "      <td>1</td>\n",
              "      <td>2</td>\n",
              "      <td>0</td>\n",
              "    </tr>\n",
              "    <tr>\n",
              "      <th>1</th>\n",
              "      <td>2020-06-28</td>\n",
              "      <td>Sunday</td>\n",
              "      <td>ام عبدالعزيز العامري</td>\n",
              "      <td>لبيتو</td>\n",
              "      <td>2</td>\n",
              "      <td>0</td>\n",
              "      <td>0</td>\n",
              "    </tr>\n",
              "    <tr>\n",
              "      <th>2</th>\n",
              "      <td>2020-06-28</td>\n",
              "      <td>Sunday</td>\n",
              "      <td>ام عبدالعزيز العامري</td>\n",
              "      <td>جرينتا</td>\n",
              "      <td>3</td>\n",
              "      <td>0</td>\n",
              "      <td>0</td>\n",
              "    </tr>\n",
              "    <tr>\n",
              "      <th>3</th>\n",
              "      <td>2020-06-28</td>\n",
              "      <td>Sunday</td>\n",
              "      <td>ام عبدالعزيز العامري</td>\n",
              "      <td>تشكن بف</td>\n",
              "      <td>4</td>\n",
              "      <td>0</td>\n",
              "      <td>0</td>\n",
              "    </tr>\n",
              "    <tr>\n",
              "      <th>4</th>\n",
              "      <td>2020-06-28</td>\n",
              "      <td>Sunday</td>\n",
              "      <td>ام عبدالعزيز العامري</td>\n",
              "      <td>تبولة</td>\n",
              "      <td>5</td>\n",
              "      <td>0</td>\n",
              "      <td>0</td>\n",
              "    </tr>\n",
              "  </tbody>\n",
              "</table>\n",
              "</div>"
            ],
            "text/plain": [
              "         date week_day              store_id  ... item_id  sales  returned\n",
              "0  2020-06-28   Sunday  ام عبدالعزيز العامري  ...       1      2         0\n",
              "1  2020-06-28   Sunday  ام عبدالعزيز العامري  ...       2      0         0\n",
              "2  2020-06-28   Sunday  ام عبدالعزيز العامري  ...       3      0         0\n",
              "3  2020-06-28   Sunday  ام عبدالعزيز العامري  ...       4      0         0\n",
              "4  2020-06-28   Sunday  ام عبدالعزيز العامري  ...       5      0         0\n",
              "\n",
              "[5 rows x 7 columns]"
            ]
          },
          "metadata": {
            "tags": []
          },
          "execution_count": 77
        }
      ]
    },
    {
      "cell_type": "code",
      "metadata": {
        "colab": {
          "base_uri": "https://localhost:8080/",
          "height": 597
        },
        "id": "VqxdIgU6Rqkf",
        "outputId": "9b1ccaac-a190-48cb-900b-dfac0aec55be"
      },
      "source": [
        "print('Displaying demo of the dataset: ')\n",
        "\n",
        "print()\n",
        "\n",
        "plt.title(\"Sales demo\")\n",
        "plt.plot(dataset['date'][2500:5000], dataset['sales'][2500:5000])\n",
        "plt.show()\n",
        "\n",
        "print()\n",
        "\n",
        "plt.title(\"Returns demo\")\n",
        "plt.plot(dataset['date'][2500:5000], dataset['returned'][2500:5000])\n",
        "plt.show()"
      ],
      "execution_count": null,
      "outputs": [
        {
          "output_type": "stream",
          "text": [
            "Displaying demo of the dataset: \n",
            "\n"
          ],
          "name": "stdout"
        },
        {
          "output_type": "display_data",
          "data": {
            "image/png": "[encoded data removed]",
            "text/plain": [
              "<Figure size 432x288 with 1 Axes>"
            ]
          },
          "metadata": {
            "tags": [],
            "needs_background": "light"
          }
        },
        {
          "output_type": "stream",
          "text": [
            "\n"
          ],
          "name": "stdout"
        },
        {
          "output_type": "display_data",
          "data": {
            "image/png": "[encoded data removed]",
            "text/plain": [
              "<Figure size 432x288 with 1 Axes>"
            ]
          },
          "metadata": {
            "tags": [],
            "needs_background": "light"
          }
        }
      ]
    },
    {
      "cell_type": "markdown",
      "metadata": {
        "id": "c-Ewv15BWk2h"
      },
      "source": [
        "# Preprocessing\n",
        "\n",
        "The following is performed to preprocess the data:\n",
        "* transform each store_name to a unique id\n",
        "* transform each date to a unique id. The ids need to be persistent.\n",
        "* transform each weekday to a unique id. The ids need to be persistent.\n",
        "* remove the food_name as we already have the id\n",
        "* ...\n",
        "\n",
        "Obviously, this is subject to change. So if we think something should be added/removed/changed, then we shall change it."
      ]
    },
    {
      "cell_type": "code",
      "metadata": {
        "id": "4G6fPzO9XOfJ"
      },
      "source": [
        "from sklearn import preprocessing\n",
        "import numpy as np"
      ],
      "execution_count": null,
      "outputs": []
    },
    {
      "cell_type": "code",
      "metadata": {
        "id": "vfjCkuGk1IN2"
      },
      "source": [
        "# Remove the food_name as we already have the id\n",
        "del dataset['item_name']"
      ],
      "execution_count": null,
      "outputs": []
    },
    {
      "cell_type": "code",
      "metadata": {
        "id": "VTzTmuzTUTJ1"
      },
      "source": [
        "# Initialize label encoder.\n",
        "le = preprocessing.LabelEncoder()\n",
        "oe = preprocessing.OrdinalEncoder()\n",
        "# Transform each store_name to a unique id.\n",
        "dataset['store_id'] = le.fit_transform(dataset['store_id'])\n",
        "\n",
        "# Transform each date to a unique id. Encoding is ascending from 0...n-1,\n",
        "# where n is the number of unique dates\n",
        "le.fit(np.arange(dataset['date'].shape[0]))\n",
        "dataset['date'] = le.fit_transform(dataset['date'])\n",
        "\n",
        "# Transofrm each weekday to a unique id.\n",
        "le.fit(np.arange(7))\n",
        "dataset['week_day'] = le.fit_transform(dataset['week_day'])"
      ],
      "execution_count": null,
      "outputs": []
    },
    {
      "cell_type": "code",
      "metadata": {
        "colab": {
          "base_uri": "https://localhost:8080/",
          "height": 206
        },
        "id": "rR_G7kldV--D",
        "outputId": "1d1d9316-3711-4a42-bb9b-cd11c9f7ed07"
      },
      "source": [
        "dataset.head()"
      ],
      "execution_count": null,
      "outputs": [
        {
          "output_type": "execute_result",
          "data": {
            "text/html": [
              "<div>\n",
              "<style scoped>\n",
              "    .dataframe tbody tr th:only-of-type {\n",
              "        vertical-align: middle;\n",
              "    }\n",
              "\n",
              "    .dataframe tbody tr th {\n",
              "        vertical-align: top;\n",
              "    }\n",
              "\n",
              "    .dataframe thead th {\n",
              "        text-align: right;\n",
              "    }\n",
              "</style>\n",
              "<table border=\"1\" class=\"dataframe\">\n",
              "  <thead>\n",
              "    <tr style=\"text-align: right;\">\n",
              "      <th></th>\n",
              "      <th>date</th>\n",
              "      <th>week_day</th>\n",
              "      <th>store_id</th>\n",
              "      <th>item_id</th>\n",
              "      <th>sales</th>\n",
              "      <th>returned</th>\n",
              "    </tr>\n",
              "  </thead>\n",
              "  <tbody>\n",
              "    <tr>\n",
              "      <th>0</th>\n",
              "      <td>0</td>\n",
              "      <td>3</td>\n",
              "      <td>29</td>\n",
              "      <td>1</td>\n",
              "      <td>2</td>\n",
              "      <td>0</td>\n",
              "    </tr>\n",
              "    <tr>\n",
              "      <th>1</th>\n",
              "      <td>0</td>\n",
              "      <td>3</td>\n",
              "      <td>29</td>\n",
              "      <td>2</td>\n",
              "      <td>0</td>\n",
              "      <td>0</td>\n",
              "    </tr>\n",
              "    <tr>\n",
              "      <th>2</th>\n",
              "      <td>0</td>\n",
              "      <td>3</td>\n",
              "      <td>29</td>\n",
              "      <td>3</td>\n",
              "      <td>0</td>\n",
              "      <td>0</td>\n",
              "    </tr>\n",
              "    <tr>\n",
              "      <th>3</th>\n",
              "      <td>0</td>\n",
              "      <td>3</td>\n",
              "      <td>29</td>\n",
              "      <td>4</td>\n",
              "      <td>0</td>\n",
              "      <td>0</td>\n",
              "    </tr>\n",
              "    <tr>\n",
              "      <th>4</th>\n",
              "      <td>0</td>\n",
              "      <td>3</td>\n",
              "      <td>29</td>\n",
              "      <td>5</td>\n",
              "      <td>0</td>\n",
              "      <td>0</td>\n",
              "    </tr>\n",
              "  </tbody>\n",
              "</table>\n",
              "</div>"
            ],
            "text/plain": [
              "   date  week_day  store_id  item_id  sales  returned\n",
              "0     0         3        29        1      2         0\n",
              "1     0         3        29        2      0         0\n",
              "2     0         3        29        3      0         0\n",
              "3     0         3        29        4      0         0\n",
              "4     0         3        29        5      0         0"
            ]
          },
          "metadata": {
            "tags": []
          },
          "execution_count": 82
        }
      ]
    },
    {
      "cell_type": "markdown",
      "metadata": {
        "id": "7rPeFRxv15rv"
      },
      "source": [
        "### Save preprocessed dataset"
      ]
    },
    {
      "cell_type": "code",
      "metadata": {
        "id": "zPQv9XXCZJGn"
      },
      "source": [
        "save_path = \"preprocessed_dataset.csv\"\n",
        "DataFrame.to_csv(dataset, save_path)"
      ],
      "execution_count": null,
      "outputs": []
    },
    {
      "cell_type": "markdown",
      "metadata": {
        "id": "jttlAYJKE7zb"
      },
      "source": [
        "# Training model"
      ]
    },
    {
      "cell_type": "code",
      "metadata": {
        "id": "ATl-U6UrFSzu"
      },
      "source": [
        "import sklearn\n",
        "from sklearn.linear_model import LinearRegression\n",
        "import pandas as pd\n",
        "from pandas import DataFrame"
      ],
      "execution_count": null,
      "outputs": []
    },
    {
      "cell_type": "code",
      "metadata": {
        "id": "Iz9N0wu1FNxV"
      },
      "source": [
        "from google.colab import drive\n",
        "drive.mount('/content/drive')"
      ],
      "execution_count": null,
      "outputs": []
    },
    {
      "cell_type": "code",
      "metadata": {
        "id": "ijedNTB5FF1V"
      },
      "source": [
        "path = '/content/drive/MyDrive/preprocessed_dataset.csv'\n",
        "dataset = pd.read_csv(path)"
      ],
      "execution_count": null,
      "outputs": []
    },
    {
      "cell_type": "code",
      "metadata": {
        "colab": {
          "base_uri": "https://localhost:8080/"
        },
        "id": "6iD5UneNFUxE",
        "outputId": "500d8848-7e02-4a6b-d698-0bd74ad1f417"
      },
      "source": [
        "X = dataset[['date', 'week_day', 'store_id', 'item_id']]\n",
        "y = dataset['sales']\n",
        "\n",
        "reg = LinearRegression().fit(X, y)\n",
        "reg.score(X, y)"
      ],
      "execution_count": null,
      "outputs": [
        {
          "output_type": "execute_result",
          "data": {
            "text/plain": [
              "0.10962645974694363"
            ]
          },
          "metadata": {
            "tags": []
          },
          "execution_count": 98
        }
      ]
    },
    {
      "cell_type": "code",
      "metadata": {
        "id": "CSk1y1QLIeY8"
      },
      "source": [
        " "
      ],
      "execution_count": null,
      "outputs": []
    }
  ]
}